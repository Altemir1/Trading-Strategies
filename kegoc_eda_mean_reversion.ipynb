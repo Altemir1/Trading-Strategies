{
  "nbformat": 4,
  "nbformat_minor": 0,
  "metadata": {
    "colab": {
      "provenance": [],
      "authorship_tag": "ABX9TyPmiaeZNOgEuuK44ylG4J/8",
      "include_colab_link": true
    },
    "kernelspec": {
      "name": "python3",
      "display_name": "Python 3"
    },
    "language_info": {
      "name": "python"
    }
  },
  "cells": [
    {
      "cell_type": "markdown",
      "metadata": {
        "id": "view-in-github",
        "colab_type": "text"
      },
      "source": [
        "<a href=\"https://colab.research.google.com/github/Altemir1/Trading-Strategies/blob/main/kegoc_eda_mean_reversion.ipynb\" target=\"_parent\"><img src=\"https://colab.research.google.com/assets/colab-badge.svg\" alt=\"Open In Colab\"/></a>"
      ]
    },
    {
      "cell_type": "markdown",
      "source": [
        "### Dataset preparation"
      ],
      "metadata": {
        "id": "WMWRvcFBJw5i"
      }
    },
    {
      "cell_type": "markdown",
      "source": [
        "Merging data sets for 3 years period (14-03-2022: 13-03-2025)"
      ],
      "metadata": {
        "id": "SrYYpXdzGsJs"
      }
    },
    {
      "cell_type": "code",
      "execution_count": null,
      "metadata": {
        "id": "B6mDNq3SEg0t"
      },
      "outputs": [],
      "source": [
        "import pandas as pd\n",
        "\n",
        "df_1 = pd.read_csv('/content/Download Data - STOCK_KZ_XKAZ_KEGC (2).csv') # 2022 - 2023\n",
        "df_2 = pd.read_csv('/content/Download Data - STOCK_KZ_XKAZ_KEGC (1).csv') # 2023 - 2024\n",
        "df_3 = pd.read_csv('/content/Download Data - STOCK_KZ_XKAZ_KEGC.csv') # 2024 - 2025\n",
        "\n",
        "merged_df = pd.concat([df_1, df_2, df_3], ignore_index=True)\n",
        "merged_df.head()"
      ]
    },
    {
      "cell_type": "code",
      "source": [
        "merged_df.info()"
      ],
      "metadata": {
        "id": "OYT0S0SNJXlA"
      },
      "execution_count": null,
      "outputs": []
    },
    {
      "cell_type": "markdown",
      "source": [
        "Dropping same rows"
      ],
      "metadata": {
        "id": "HmUpTsRDKOVg"
      }
    },
    {
      "cell_type": "code",
      "source": [
        "merged_df.drop_duplicates(inplace=True)\n",
        "merged_df.info()"
      ],
      "metadata": {
        "id": "fEgPdCSuJQGM"
      },
      "execution_count": null,
      "outputs": []
    },
    {
      "cell_type": "markdown",
      "source": [
        "Converting date column into date datatype"
      ],
      "metadata": {
        "id": "PYKwn9hNJ5uQ"
      }
    },
    {
      "cell_type": "code",
      "source": [
        "merged_df[\"Date\"] = pd.to_datetime(merged_df[\"Date\"])\n",
        "merged_df[\"Date\"].info()"
      ],
      "metadata": {
        "id": "F8nHH2h8Jtx3"
      },
      "execution_count": null,
      "outputs": []
    },
    {
      "cell_type": "markdown",
      "source": [
        "Renaming columns for convinience of use"
      ],
      "metadata": {
        "id": "iPs5BZhPKf_B"
      }
    },
    {
      "cell_type": "code",
      "source": [
        "columns_to_rename = {}\n",
        "\n",
        "for column in merged_df.columns:\n",
        "  columns_to_rename[column] = column.lower()\n",
        "\n",
        "merged_df.rename(columns=columns_to_rename, inplace=True)\n",
        "\n",
        "merged_df.head()"
      ],
      "metadata": {
        "id": "ghtqorLuKfq5"
      },
      "execution_count": null,
      "outputs": []
    },
    {
      "cell_type": "markdown",
      "source": [
        "Converting numeric columns into float"
      ],
      "metadata": {
        "id": "saAigtgHKX03"
      }
    },
    {
      "cell_type": "code",
      "source": [
        "columns_to_convert = [\"open\", \"high\", \"low\", \"close\", \"volume\"]\n",
        "for column in columns_to_convert:\n",
        "\n",
        "  merged_df[column] = merged_df[column].str.replace(\",\", \"\")\n",
        "\n",
        "  if column != \"volume\":\n",
        "    merged_df[column] = merged_df[column].str.replace(\".\", \"\")\n",
        "    merged_df[column] = merged_df[column].astype(\"float\")\n",
        "    merged_df[column] = merged_df[column]/100\n",
        "  else:\n",
        "    merged_df[column] = merged_df[column].astype(\"float\")\n",
        "    merged_df[column] = merged_df[\"close\"] * merged_df[column]\n",
        "\n",
        "merged_df.head()\n"
      ],
      "metadata": {
        "id": "rg4VmuX5K7p6"
      },
      "execution_count": null,
      "outputs": []
    },
    {
      "cell_type": "markdown",
      "source": [
        "Setting index according to the date fo the kegoc"
      ],
      "metadata": {
        "id": "mKY5VKRhN5mm"
      }
    },
    {
      "cell_type": "code",
      "source": [
        "merged_df.reset_index(drop=True, inplace=True)\n",
        "merged_df.sort_values(by=\"date\", inplace=True)\n",
        "merged_df.set_index(\"date\", inplace=True)"
      ],
      "metadata": {
        "id": "2khz-X8LOIHo"
      },
      "execution_count": null,
      "outputs": []
    },
    {
      "cell_type": "code",
      "source": [
        "merged_df.head()"
      ],
      "metadata": {
        "id": "MhARfNNGOl3-"
      },
      "execution_count": null,
      "outputs": []
    },
    {
      "cell_type": "code",
      "source": [
        "merged_df.tail()"
      ],
      "metadata": {
        "id": "1eKSF8unOnuu"
      },
      "execution_count": null,
      "outputs": []
    },
    {
      "cell_type": "markdown",
      "source": [
        "Saving formatted dataframe"
      ],
      "metadata": {
        "id": "EX_i-FHBOxSI"
      }
    },
    {
      "cell_type": "code",
      "source": [
        "merged_df.to_csv(\"kegoc-stock-data-2022-2025.csv\")"
      ],
      "metadata": {
        "id": "XnicqSMUOw50"
      },
      "execution_count": null,
      "outputs": []
    },
    {
      "cell_type": "markdown",
      "source": [
        "### EDA for KEGOC stock price"
      ],
      "metadata": {
        "id": "4k8H5W_cQH_Y"
      }
    },
    {
      "cell_type": "markdown",
      "source": [
        "Close price vs Trading volume of the stock"
      ],
      "metadata": {
        "id": "-BCIFpnVQOL1"
      }
    },
    {
      "cell_type": "code",
      "source": [
        "import matplotlib.pyplot as plt\n",
        "\n",
        "# Create the figure and axis\n",
        "fig, ax1 = plt.subplots(figsize=(10, 5))\n",
        "\n",
        "# Plot Price on primary y-axis\n",
        "ax1.plot(merged_df.index, merged_df[\"close\"], color=\"blue\", label=\"Close Price\")\n",
        "ax1.set_ylabel(\"Stock Price (USD)\", color=\"blue\")\n",
        "ax1.tick_params(axis=\"y\", labelcolor=\"blue\")\n",
        "\n",
        "# Create a secondary y-axis for Volume\n",
        "ax2 = ax1.twinx()\n",
        "ax2.bar(merged_df.index, merged_df[\"volume\"], color=\"orange\", alpha=0.4, label=\"Trading Volume\")\n",
        "ax2.set_ylabel(\"Trading Volume\", color=\"orange\")\n",
        "ax2.tick_params(axis=\"y\", labelcolor=\"orange\")\n",
        "\n",
        "# Formatting x-axis\n",
        "ax1.set_xlabel(\"Date\")\n",
        "ax1.set_title(\"Stock Price vs Trading Volume\")\n",
        "fig.tight_layout()\n",
        "\n",
        "# Show the plot\n",
        "plt.show()\n",
        "plt.close()"
      ],
      "metadata": {
        "colab": {
          "base_uri": "https://localhost:8080/",
          "height": 507
        },
        "id": "SK9-YcOvTwyA",
        "outputId": "de9b51e7-763f-42da-b33a-ccfc7e55dae1"
      },
      "execution_count": 36,
      "outputs": [
        {
          "output_type": "display_data",
          "data": {
            "text/plain": [
              "<Figure size 1000x500 with 2 Axes>"
            ],
            "image/png": "[encoded data removed]"
          },
          "metadata": {}
        }
      ]
    },
    {
      "cell_type": "markdown",
      "source": [
        "Data set statistical description"
      ],
      "metadata": {
        "id": "HdqPi3eRUoB2"
      }
    },
    {
      "cell_type": "code",
      "source": [
        "merged_df.describe()"
      ],
      "metadata": {
        "colab": {
          "base_uri": "https://localhost:8080/",
          "height": 300
        },
        "id": "VhTkx0jxUrDw",
        "outputId": "37215d28-4c3e-4435-9c21-2b890f6ef890"
      },
      "execution_count": 31,
      "outputs": [
        {
          "output_type": "execute_result",
          "data": {
            "text/plain": [
              "              open         high          low        close        volume\n",
              "count   737.000000   737.000000   737.000000   737.000000  7.370000e+02\n",
              "mean   1548.977205  1553.676649  1542.903569  1549.189661  3.099206e+07\n",
              "std      80.753863    80.016939    79.516087    79.837880  7.420996e+07\n",
              "min    1363.000000  1372.590000  1361.000000  1363.990000  2.070900e+05\n",
              "25%    1482.000000  1488.000000  1481.000000  1483.000000  1.777794e+06\n",
              "50%    1565.900000  1568.000000  1560.000000  1566.000000  8.653328e+06\n",
              "75%    1595.700000  1600.000000  1585.010000  1597.000000  3.385534e+07\n",
              "max    1867.490000  1867.490000  1855.270000  1867.490000  1.427740e+09"
            ],
            "text/html": [
              "\n",
              "  <div id=\"df-33d87622-33ed-45be-b160-6ba25a12b130\" class=\"colab-df-container\">\n",
              "    <div>\n",
              "<style scoped>\n",
              "    .dataframe tbody tr th:only-of-type {\n",
              "        vertical-align: middle;\n",
              "    }\n",
              "\n",
              "    .dataframe tbody tr th {\n",
              "        vertical-align: top;\n",
              "    }\n",
              "\n",
              "    .dataframe thead th {\n",
              "        text-align: right;\n",
              "    }\n",
              "</style>\n",
              "<table border=\"1\" class=\"dataframe\">\n",
              "  <thead>\n",
              "    <tr style=\"text-align: right;\">\n",
              "      <th></th>\n",
              "      <th>open</th>\n",
              "      <th>high</th>\n",
              "      <th>low</th>\n",
              "      <th>close</th>\n",
              "      <th>volume</th>\n",
              "    </tr>\n",
              "  </thead>\n",
              "  <tbody>\n",
              "    <tr>\n",
              "      <th>count</th>\n",
              "      <td>737.000000</td>\n",
              "      <td>737.000000</td>\n",
              "      <td>737.000000</td>\n",
              "      <td>737.000000</td>\n",
              "      <td>7.370000e+02</td>\n",
              "    </tr>\n",
              "    <tr>\n",
              "      <th>mean</th>\n",
              "      <td>1548.977205</td>\n",
              "      <td>1553.676649</td>\n",
              "      <td>1542.903569</td>\n",
              "      <td>1549.189661</td>\n",
              "      <td>3.099206e+07</td>\n",
              "    </tr>\n",
              "    <tr>\n",
              "      <th>std</th>\n",
              "      <td>80.753863</td>\n",
              "      <td>80.016939</td>\n",
              "      <td>79.516087</td>\n",
              "      <td>79.837880</td>\n",
              "      <td>7.420996e+07</td>\n",
              "    </tr>\n",
              "    <tr>\n",
              "      <th>min</th>\n",
              "      <td>1363.000000</td>\n",
              "      <td>1372.590000</td>\n",
              "      <td>1361.000000</td>\n",
              "      <td>1363.990000</td>\n",
              "      <td>2.070900e+05</td>\n",
              "    </tr>\n",
              "    <tr>\n",
              "      <th>25%</th>\n",
              "      <td>1482.000000</td>\n",
              "      <td>1488.000000</td>\n",
              "      <td>1481.000000</td>\n",
              "      <td>1483.000000</td>\n",
              "      <td>1.777794e+06</td>\n",
              "    </tr>\n",
              "    <tr>\n",
              "      <th>50%</th>\n",
              "      <td>1565.900000</td>\n",
              "      <td>1568.000000</td>\n",
              "      <td>1560.000000</td>\n",
              "      <td>1566.000000</td>\n",
              "      <td>8.653328e+06</td>\n",
              "    </tr>\n",
              "    <tr>\n",
              "      <th>75%</th>\n",
              "      <td>1595.700000</td>\n",
              "      <td>1600.000000</td>\n",
              "      <td>1585.010000</td>\n",
              "      <td>1597.000000</td>\n",
              "      <td>3.385534e+07</td>\n",
              "    </tr>\n",
              "    <tr>\n",
              "      <th>max</th>\n",
              "      <td>1867.490000</td>\n",
              "      <td>1867.490000</td>\n",
              "      <td>1855.270000</td>\n",
              "      <td>1867.490000</td>\n",
              "      <td>1.427740e+09</td>\n",
              "    </tr>\n",
              "  </tbody>\n",
              "</table>\n",
              "</div>\n",
              "    <div class=\"colab-df-buttons\">\n",
              "\n",
              "  <div class=\"colab-df-container\">\n",
              "    <button class=\"colab-df-convert\" onclick=\"convertToInteractive('df-33d87622-33ed-45be-b160-6ba25a12b130')\"\n",
              "            title=\"Convert this dataframe to an interactive table.\"\n",
              "            style=\"display:none;\">\n",
              "\n",
              "  <svg xmlns=\"http://www.w3.org/2000/svg\" height=\"24px\" viewBox=\"0 -960 960 960\">\n",
              "    <path d=\"M120-120v-720h720v720H120Zm60-500h600v-160H180v160Zm220 220h160v-160H400v160Zm0 220h160v-160H400v160ZM180-400h160v-160H180v160Zm440 0h160v-160H620v160ZM180-180h160v-160H180v160Zm440 0h160v-160H620v160Z\"/>\n",
              "  </svg>\n",
              "    </button>\n",
              "\n",
              "  <style>\n",
              "    .colab-df-container {\n",
              "      display:flex;\n",
              "      gap: 12px;\n",
              "    }\n",
              "\n",
              "    .colab-df-convert {\n",
              "      background-color: #E8F0FE;\n",
              "      border: none;\n",
              "      border-radius: 50%;\n",
              "      cursor: pointer;\n",
              "      display: none;\n",
              "      fill: #1967D2;\n",
              "      height: 32px;\n",
              "      padding: 0 0 0 0;\n",
              "      width: 32px;\n",
              "    }\n",
              "\n",
              "    .colab-df-convert:hover {\n",
              "      background-color: #E2EBFA;\n",
              "      box-shadow: 0px 1px 2px rgba(60, 64, 67, 0.3), 0px 1px 3px 1px rgba(60, 64, 67, 0.15);\n",
              "      fill: #174EA6;\n",
              "    }\n",
              "\n",
              "    .colab-df-buttons div {\n",
              "      margin-bottom: 4px;\n",
              "    }\n",
              "\n",
              "    [theme=dark] .colab-df-convert {\n",
              "      background-color: #3B4455;\n",
              "      fill: #D2E3FC;\n",
              "    }\n",
              "\n",
              "    [theme=dark] .colab-df-convert:hover {\n",
              "      background-color: #434B5C;\n",
              "      box-shadow: 0px 1px 3px 1px rgba(0, 0, 0, 0.15);\n",
              "      filter: drop-shadow(0px 1px 2px rgba(0, 0, 0, 0.3));\n",
              "      fill: #FFFFFF;\n",
              "    }\n",
              "  </style>\n",
              "\n",
              "    <script>\n",
              "      const buttonEl =\n",
              "        document.querySelector('#df-33d87622-33ed-45be-b160-6ba25a12b130 button.colab-df-convert');\n",
              "      buttonEl.style.display =\n",
              "        google.colab.kernel.accessAllowed ? 'block' : 'none';\n",
              "\n",
              "      async function convertToInteractive(key) {\n",
              "        const element = document.querySelector('#df-33d87622-33ed-45be-b160-6ba25a12b130');\n",
              "        const dataTable =\n",
              "          await google.colab.kernel.invokeFunction('convertToInteractive',\n",
              "                                                    [key], {});\n",
              "        if (!dataTable) return;\n",
              "\n",
              "        const docLinkHtml = 'Like what you see? Visit the ' +\n",
              "          '<a target=\"_blank\" href=https://colab.research.google.com/notebooks/data_table.ipynb>data table notebook</a>'\n",
              "          + ' to learn more about interactive tables.';\n",
              "        element.innerHTML = '';\n",
              "        dataTable['output_type'] = 'display_data';\n",
              "        await google.colab.output.renderOutput(dataTable, element);\n",
              "        const docLink = document.createElement('div');\n",
              "        docLink.innerHTML = docLinkHtml;\n",
              "        element.appendChild(docLink);\n",
              "      }\n",
              "    </script>\n",
              "  </div>\n",
              "\n",
              "\n",
              "<div id=\"df-c9c92bf1-9ae9-4671-8de1-958d00363f9c\">\n",
              "  <button class=\"colab-df-quickchart\" onclick=\"quickchart('df-c9c92bf1-9ae9-4671-8de1-958d00363f9c')\"\n",
              "            title=\"Suggest charts\"\n",
              "            style=\"display:none;\">\n",
              "\n",
              "<svg xmlns=\"http://www.w3.org/2000/svg\" height=\"24px\"viewBox=\"0 0 24 24\"\n",
              "     width=\"24px\">\n",
              "    <g>\n",
              "        <path d=\"M19 3H5c-1.1 0-2 .9-2 2v14c0 1.1.9 2 2 2h14c1.1 0 2-.9 2-2V5c0-1.1-.9-2-2-2zM9 17H7v-7h2v7zm4 0h-2V7h2v10zm4 0h-2v-4h2v4z\"/>\n",
              "    </g>\n",
              "</svg>\n",
              "  </button>\n",
              "\n",
              "<style>\n",
              "  .colab-df-quickchart {\n",
              "      --bg-color: #E8F0FE;\n",
              "      --fill-color: #1967D2;\n",
              "      --hover-bg-color: #E2EBFA;\n",
              "      --hover-fill-color: #174EA6;\n",
              "      --disabled-fill-color: #AAA;\n",
              "      --disabled-bg-color: #DDD;\n",
              "  }\n",
              "\n",
              "  [theme=dark] .colab-df-quickchart {\n",
              "      --bg-color: #3B4455;\n",
              "      --fill-color: #D2E3FC;\n",
              "      --hover-bg-color: #434B5C;\n",
              "      --hover-fill-color: #FFFFFF;\n",
              "      --disabled-bg-color: #3B4455;\n",
              "      --disabled-fill-color: #666;\n",
              "  }\n",
              "\n",
              "  .colab-df-quickchart {\n",
              "    background-color: var(--bg-color);\n",
              "    border: none;\n",
              "    border-radius: 50%;\n",
              "    cursor: pointer;\n",
              "    display: none;\n",
              "    fill: var(--fill-color);\n",
              "    height: 32px;\n",
              "    padding: 0;\n",
              "    width: 32px;\n",
              "  }\n",
              "\n",
              "  .colab-df-quickchart:hover {\n",
              "    background-color: var(--hover-bg-color);\n",
              "    box-shadow: 0 1px 2px rgba(60, 64, 67, 0.3), 0 1px 3px 1px rgba(60, 64, 67, 0.15);\n",
              "    fill: var(--button-hover-fill-color);\n",
              "  }\n",
              "\n",
              "  .colab-df-quickchart-complete:disabled,\n",
              "  .colab-df-quickchart-complete:disabled:hover {\n",
              "    background-color: var(--disabled-bg-color);\n",
              "    fill: var(--disabled-fill-color);\n",
              "    box-shadow: none;\n",
              "  }\n",
              "\n",
              "  .colab-df-spinner {\n",
              "    border: 2px solid var(--fill-color);\n",
              "    border-color: transparent;\n",
              "    border-bottom-color: var(--fill-color);\n",
              "    animation:\n",
              "      spin 1s steps(1) infinite;\n",
              "  }\n",
              "\n",
              "  @keyframes spin {\n",
              "    0% {\n",
              "      border-color: transparent;\n",
              "      border-bottom-color: var(--fill-color);\n",
              "      border-left-color: var(--fill-color);\n",
              "    }\n",
              "    20% {\n",
              "      border-color: transparent;\n",
              "      border-left-color: var(--fill-color);\n",
              "      border-top-color: var(--fill-color);\n",
              "    }\n",
              "    30% {\n",
              "      border-color: transparent;\n",
              "      border-left-color: var(--fill-color);\n",
              "      border-top-color: var(--fill-color);\n",
              "      border-right-color: var(--fill-color);\n",
              "    }\n",
              "    40% {\n",
              "      border-color: transparent;\n",
              "      border-right-color: var(--fill-color);\n",
              "      border-top-color: var(--fill-color);\n",
              "    }\n",
              "    60% {\n",
              "      border-color: transparent;\n",
              "      border-right-color: var(--fill-color);\n",
              "    }\n",
              "    80% {\n",
              "      border-color: transparent;\n",
              "      border-right-color: var(--fill-color);\n",
              "      border-bottom-color: var(--fill-color);\n",
              "    }\n",
              "    90% {\n",
              "      border-color: transparent;\n",
              "      border-bottom-color: var(--fill-color);\n",
              "    }\n",
              "  }\n",
              "</style>\n",
              "\n",
              "  <script>\n",
              "    async function quickchart(key) {\n",
              "      const quickchartButtonEl =\n",
              "        document.querySelector('#' + key + ' button');\n",
              "      quickchartButtonEl.disabled = true;  // To prevent multiple clicks.\n",
              "      quickchartButtonEl.classList.add('colab-df-spinner');\n",
              "      try {\n",
              "        const charts = await google.colab.kernel.invokeFunction(\n",
              "            'suggestCharts', [key], {});\n",
              "      } catch (error) {\n",
              "        console.error('Error during call to suggestCharts:', error);\n",
              "      }\n",
              "      quickchartButtonEl.classList.remove('colab-df-spinner');\n",
              "      quickchartButtonEl.classList.add('colab-df-quickchart-complete');\n",
              "    }\n",
              "    (() => {\n",
              "      let quickchartButtonEl =\n",
              "        document.querySelector('#df-c9c92bf1-9ae9-4671-8de1-958d00363f9c button');\n",
              "      quickchartButtonEl.style.display =\n",
              "        google.colab.kernel.accessAllowed ? 'block' : 'none';\n",
              "    })();\n",
              "  </script>\n",
              "</div>\n",
              "\n",
              "    </div>\n",
              "  </div>\n"
            ],
            "application/vnd.google.colaboratory.intrinsic+json": {
              "type": "dataframe",
              "summary": "{\n  \"name\": \"merged_df\",\n  \"rows\": 8,\n  \"fields\": [\n    {\n      \"column\": \"open\",\n      \"properties\": {\n        \"dtype\": \"number\",\n        \"std\": 583.0500775803249,\n        \"min\": 80.75386255099492,\n        \"max\": 1867.49,\n        \"num_unique_values\": 8,\n        \"samples\": [\n          1548.9772048846676,\n          1565.9,\n          737.0\n        ],\n        \"semantic_type\": \"\",\n        \"description\": \"\"\n      }\n    },\n    {\n      \"column\": \"high\",\n      \"properties\": {\n        \"dtype\": \"number\",\n        \"std\": 584.5563713422084,\n        \"min\": 80.0169393328244,\n        \"max\": 1867.49,\n        \"num_unique_values\": 8,\n        \"samples\": [\n          1553.6766485753053,\n          1568.0,\n          737.0\n        ],\n        \"semantic_type\": \"\",\n        \"description\": \"\"\n      }\n    },\n    {\n      \"column\": \"low\",\n      \"properties\": {\n        \"dtype\": \"number\",\n        \"std\": 579.9352451498654,\n        \"min\": 79.51608708164368,\n        \"max\": 1855.27,\n        \"num_unique_values\": 8,\n        \"samples\": [\n          1542.903568521031,\n          1560.0,\n          737.0\n        ],\n        \"semantic_type\": \"\",\n        \"description\": \"\"\n      }\n    },\n    {\n      \"column\": \"close\",\n      \"properties\": {\n        \"dtype\": \"number\",\n        \"std\": 583.5106156093522,\n        \"min\": 79.83788016682011,\n        \"max\": 1867.49,\n        \"num_unique_values\": 8,\n        \"samples\": [\n          1549.1896607869742,\n          1566.0,\n          737.0\n        ],\n        \"semantic_type\": \"\",\n        \"description\": \"\"\n      }\n    },\n    {\n      \"column\": \"volume\",\n      \"properties\": {\n        \"dtype\": \"number\",\n        \"std\": 497866153.83413535,\n        \"min\": 737.0,\n        \"max\": 1427739884.0,\n        \"num_unique_values\": 8,\n        \"samples\": [\n          30992062.237530526,\n          8653328.0,\n          737.0\n        ],\n        \"semantic_type\": \"\",\n        \"description\": \"\"\n      }\n    }\n  ]\n}"
            }
          },
          "metadata": {},
          "execution_count": 31
        }
      ]
    },
    {
      "cell_type": "markdown",
      "source": [
        "Volatility plot"
      ],
      "metadata": {
        "id": "aal1I8e1UxKD"
      }
    },
    {
      "cell_type": "code",
      "source": [
        "daily_return = merged_df[\"close\"].pct_change()\n",
        "rolling_volatility = daily_return.rolling(window=30).std()\n",
        "\n",
        "\n",
        "plt.plot(rolling_volatility, label=\"30-Day Rolling Volatility\", color=\"red\")\n",
        "plt.title(\"KEGOC stock Volatility\")\n",
        "plt.xlabel(\"Date\")\n",
        "plt.ylabel(\"Volatility\")\n",
        "plt.xticks(rotation=45)\n",
        "plt.legend(loc=\"upper right\")\n",
        "plt.show()\n"
      ],
      "metadata": {
        "colab": {
          "base_uri": "https://localhost:8080/",
          "height": 489
        },
        "id": "BXfAIY3ZUy5q",
        "outputId": "c2b1d7b2-85bb-41ee-ccfa-6dba0bd17659"
      },
      "execution_count": 40,
      "outputs": [
        {
          "output_type": "display_data",
          "data": {
            "text/plain": [
              "<Figure size 640x480 with 1 Axes>"
            ],
            "image/png": "[encoded data removed]"
          },
          "metadata": {}
        }
      ]
    },
    {
      "cell_type": "markdown",
      "source": [
        "### Mean reversion strategy implementation"
      ],
      "metadata": {
        "id": "adO_gJ6_d5If"
      }
    },
    {
      "cell_type": "code",
      "source": [
        "import pandas as pd\n",
        "\n",
        "df = pd.read_csv(\"/content/processed-kegoc-stock-data-2022-2025.csv\")\n",
        "df.head()"
      ],
      "metadata": {
        "colab": {
          "base_uri": "https://localhost:8080/",
          "height": 206
        },
        "id": "zu0mibacd-vZ",
        "outputId": "2a1c36c6-87e4-4c94-cef1-70a5727683c8"
      },
      "execution_count": 38,
      "outputs": [
        {
          "output_type": "execute_result",
          "data": {
            "text/plain": [
              "         date     open    high      low    close      volume\n",
              "0  2022-03-14  1863.97  1864.0  1849.00  1850.01  3576069.33\n",
              "1  2022-03-15  1851.00  1860.0  1851.00  1860.00   983940.00\n",
              "2  2022-03-16  1860.00  1860.0  1849.03  1851.00  2173074.00\n",
              "3  2022-03-17  1851.00  1860.0  1849.01  1851.00  1764003.00\n",
              "4  2022-03-18  1851.00  1851.0  1850.00  1851.00  4172154.00"
            ],
            "text/html": [
              "\n",
              "  <div id=\"df-a46d4b90-2eee-44d8-a1f3-27f8bff740f0\" class=\"colab-df-container\">\n",
              "    <div>\n",
              "<style scoped>\n",
              "    .dataframe tbody tr th:only-of-type {\n",
              "        vertical-align: middle;\n",
              "    }\n",
              "\n",
              "    .dataframe tbody tr th {\n",
              "        vertical-align: top;\n",
              "    }\n",
              "\n",
              "    .dataframe thead th {\n",
              "        text-align: right;\n",
              "    }\n",
              "</style>\n",
              "<table border=\"1\" class=\"dataframe\">\n",
              "  <thead>\n",
              "    <tr style=\"text-align: right;\">\n",
              "      <th></th>\n",
              "      <th>date</th>\n",
              "      <th>open</th>\n",
              "      <th>high</th>\n",
              "      <th>low</th>\n",
              "      <th>close</th>\n",
              "      <th>volume</th>\n",
              "    </tr>\n",
              "  </thead>\n",
              "  <tbody>\n",
              "    <tr>\n",
              "      <th>0</th>\n",
              "      <td>2022-03-14</td>\n",
              "      <td>1863.97</td>\n",
              "      <td>1864.0</td>\n",
              "      <td>1849.00</td>\n",
              "      <td>1850.01</td>\n",
              "      <td>3576069.33</td>\n",
              "    </tr>\n",
              "    <tr>\n",
              "      <th>1</th>\n",
              "      <td>2022-03-15</td>\n",
              "      <td>1851.00</td>\n",
              "      <td>1860.0</td>\n",
              "      <td>1851.00</td>\n",
              "      <td>1860.00</td>\n",
              "      <td>983940.00</td>\n",
              "    </tr>\n",
              "    <tr>\n",
              "      <th>2</th>\n",
              "      <td>2022-03-16</td>\n",
              "      <td>1860.00</td>\n",
              "      <td>1860.0</td>\n",
              "      <td>1849.03</td>\n",
              "      <td>1851.00</td>\n",
              "      <td>2173074.00</td>\n",
              "    </tr>\n",
              "    <tr>\n",
              "      <th>3</th>\n",
              "      <td>2022-03-17</td>\n",
              "      <td>1851.00</td>\n",
              "      <td>1860.0</td>\n",
              "      <td>1849.01</td>\n",
              "      <td>1851.00</td>\n",
              "      <td>1764003.00</td>\n",
              "    </tr>\n",
              "    <tr>\n",
              "      <th>4</th>\n",
              "      <td>2022-03-18</td>\n",
              "      <td>1851.00</td>\n",
              "      <td>1851.0</td>\n",
              "      <td>1850.00</td>\n",
              "      <td>1851.00</td>\n",
              "      <td>4172154.00</td>\n",
              "    </tr>\n",
              "  </tbody>\n",
              "</table>\n",
              "</div>\n",
              "    <div class=\"colab-df-buttons\">\n",
              "\n",
              "  <div class=\"colab-df-container\">\n",
              "    <button class=\"colab-df-convert\" onclick=\"convertToInteractive('df-a46d4b90-2eee-44d8-a1f3-27f8bff740f0')\"\n",
              "            title=\"Convert this dataframe to an interactive table.\"\n",
              "            style=\"display:none;\">\n",
              "\n",
              "  <svg xmlns=\"http://www.w3.org/2000/svg\" height=\"24px\" viewBox=\"0 -960 960 960\">\n",
              "    <path d=\"M120-120v-720h720v720H120Zm60-500h600v-160H180v160Zm220 220h160v-160H400v160Zm0 220h160v-160H400v160ZM180-400h160v-160H180v160Zm440 0h160v-160H620v160ZM180-180h160v-160H180v160Zm440 0h160v-160H620v160Z\"/>\n",
              "  </svg>\n",
              "    </button>\n",
              "\n",
              "  <style>\n",
              "    .colab-df-container {\n",
              "      display:flex;\n",
              "      gap: 12px;\n",
              "    }\n",
              "\n",
              "    .colab-df-convert {\n",
              "      background-color: #E8F0FE;\n",
              "      border: none;\n",
              "      border-radius: 50%;\n",
              "      cursor: pointer;\n",
              "      display: none;\n",
              "      fill: #1967D2;\n",
              "      height: 32px;\n",
              "      padding: 0 0 0 0;\n",
              "      width: 32px;\n",
              "    }\n",
              "\n",
              "    .colab-df-convert:hover {\n",
              "      background-color: #E2EBFA;\n",
              "      box-shadow: 0px 1px 2px rgba(60, 64, 67, 0.3), 0px 1px 3px 1px rgba(60, 64, 67, 0.15);\n",
              "      fill: #174EA6;\n",
              "    }\n",
              "\n",
              "    .colab-df-buttons div {\n",
              "      margin-bottom: 4px;\n",
              "    }\n",
              "\n",
              "    [theme=dark] .colab-df-convert {\n",
              "      background-color: #3B4455;\n",
              "      fill: #D2E3FC;\n",
              "    }\n",
              "\n",
              "    [theme=dark] .colab-df-convert:hover {\n",
              "      background-color: #434B5C;\n",
              "      box-shadow: 0px 1px 3px 1px rgba(0, 0, 0, 0.15);\n",
              "      filter: drop-shadow(0px 1px 2px rgba(0, 0, 0, 0.3));\n",
              "      fill: #FFFFFF;\n",
              "    }\n",
              "  </style>\n",
              "\n",
              "    <script>\n",
              "      const buttonEl =\n",
              "        document.querySelector('#df-a46d4b90-2eee-44d8-a1f3-27f8bff740f0 button.colab-df-convert');\n",
              "      buttonEl.style.display =\n",
              "        google.colab.kernel.accessAllowed ? 'block' : 'none';\n",
              "\n",
              "      async function convertToInteractive(key) {\n",
              "        const element = document.querySelector('#df-a46d4b90-2eee-44d8-a1f3-27f8bff740f0');\n",
              "        const dataTable =\n",
              "          await google.colab.kernel.invokeFunction('convertToInteractive',\n",
              "                                                    [key], {});\n",
              "        if (!dataTable) return;\n",
              "\n",
              "        const docLinkHtml = 'Like what you see? Visit the ' +\n",
              "          '<a target=\"_blank\" href=https://colab.research.google.com/notebooks/data_table.ipynb>data table notebook</a>'\n",
              "          + ' to learn more about interactive tables.';\n",
              "        element.innerHTML = '';\n",
              "        dataTable['output_type'] = 'display_data';\n",
              "        await google.colab.output.renderOutput(dataTable, element);\n",
              "        const docLink = document.createElement('div');\n",
              "        docLink.innerHTML = docLinkHtml;\n",
              "        element.appendChild(docLink);\n",
              "      }\n",
              "    </script>\n",
              "  </div>\n",
              "\n",
              "\n",
              "<div id=\"df-b2653f81-76c1-4553-ac8c-6a8d17161401\">\n",
              "  <button class=\"colab-df-quickchart\" onclick=\"quickchart('df-b2653f81-76c1-4553-ac8c-6a8d17161401')\"\n",
              "            title=\"Suggest charts\"\n",
              "            style=\"display:none;\">\n",
              "\n",
              "<svg xmlns=\"http://www.w3.org/2000/svg\" height=\"24px\"viewBox=\"0 0 24 24\"\n",
              "     width=\"24px\">\n",
              "    <g>\n",
              "        <path d=\"M19 3H5c-1.1 0-2 .9-2 2v14c0 1.1.9 2 2 2h14c1.1 0 2-.9 2-2V5c0-1.1-.9-2-2-2zM9 17H7v-7h2v7zm4 0h-2V7h2v10zm4 0h-2v-4h2v4z\"/>\n",
              "    </g>\n",
              "</svg>\n",
              "  </button>\n",
              "\n",
              "<style>\n",
              "  .colab-df-quickchart {\n",
              "      --bg-color: #E8F0FE;\n",
              "      --fill-color: #1967D2;\n",
              "      --hover-bg-color: #E2EBFA;\n",
              "      --hover-fill-color: #174EA6;\n",
              "      --disabled-fill-color: #AAA;\n",
              "      --disabled-bg-color: #DDD;\n",
              "  }\n",
              "\n",
              "  [theme=dark] .colab-df-quickchart {\n",
              "      --bg-color: #3B4455;\n",
              "      --fill-color: #D2E3FC;\n",
              "      --hover-bg-color: #434B5C;\n",
              "      --hover-fill-color: #FFFFFF;\n",
              "      --disabled-bg-color: #3B4455;\n",
              "      --disabled-fill-color: #666;\n",
              "  }\n",
              "\n",
              "  .colab-df-quickchart {\n",
              "    background-color: var(--bg-color);\n",
              "    border: none;\n",
              "    border-radius: 50%;\n",
              "    cursor: pointer;\n",
              "    display: none;\n",
              "    fill: var(--fill-color);\n",
              "    height: 32px;\n",
              "    padding: 0;\n",
              "    width: 32px;\n",
              "  }\n",
              "\n",
              "  .colab-df-quickchart:hover {\n",
              "    background-color: var(--hover-bg-color);\n",
              "    box-shadow: 0 1px 2px rgba(60, 64, 67, 0.3), 0 1px 3px 1px rgba(60, 64, 67, 0.15);\n",
              "    fill: var(--button-hover-fill-color);\n",
              "  }\n",
              "\n",
              "  .colab-df-quickchart-complete:disabled,\n",
              "  .colab-df-quickchart-complete:disabled:hover {\n",
              "    background-color: var(--disabled-bg-color);\n",
              "    fill: var(--disabled-fill-color);\n",
              "    box-shadow: none;\n",
              "  }\n",
              "\n",
              "  .colab-df-spinner {\n",
              "    border: 2px solid var(--fill-color);\n",
              "    border-color: transparent;\n",
              "    border-bottom-color: var(--fill-color);\n",
              "    animation:\n",
              "      spin 1s steps(1) infinite;\n",
              "  }\n",
              "\n",
              "  @keyframes spin {\n",
              "    0% {\n",
              "      border-color: transparent;\n",
              "      border-bottom-color: var(--fill-color);\n",
              "      border-left-color: var(--fill-color);\n",
              "    }\n",
              "    20% {\n",
              "      border-color: transparent;\n",
              "      border-left-color: var(--fill-color);\n",
              "      border-top-color: var(--fill-color);\n",
              "    }\n",
              "    30% {\n",
              "      border-color: transparent;\n",
              "      border-left-color: var(--fill-color);\n",
              "      border-top-color: var(--fill-color);\n",
              "      border-right-color: var(--fill-color);\n",
              "    }\n",
              "    40% {\n",
              "      border-color: transparent;\n",
              "      border-right-color: var(--fill-color);\n",
              "      border-top-color: var(--fill-color);\n",
              "    }\n",
              "    60% {\n",
              "      border-color: transparent;\n",
              "      border-right-color: var(--fill-color);\n",
              "    }\n",
              "    80% {\n",
              "      border-color: transparent;\n",
              "      border-right-color: var(--fill-color);\n",
              "      border-bottom-color: var(--fill-color);\n",
              "    }\n",
              "    90% {\n",
              "      border-color: transparent;\n",
              "      border-bottom-color: var(--fill-color);\n",
              "    }\n",
              "  }\n",
              "</style>\n",
              "\n",
              "  <script>\n",
              "    async function quickchart(key) {\n",
              "      const quickchartButtonEl =\n",
              "        document.querySelector('#' + key + ' button');\n",
              "      quickchartButtonEl.disabled = true;  // To prevent multiple clicks.\n",
              "      quickchartButtonEl.classList.add('colab-df-spinner');\n",
              "      try {\n",
              "        const charts = await google.colab.kernel.invokeFunction(\n",
              "            'suggestCharts', [key], {});\n",
              "      } catch (error) {\n",
              "        console.error('Error during call to suggestCharts:', error);\n",
              "      }\n",
              "      quickchartButtonEl.classList.remove('colab-df-spinner');\n",
              "      quickchartButtonEl.classList.add('colab-df-quickchart-complete');\n",
              "    }\n",
              "    (() => {\n",
              "      let quickchartButtonEl =\n",
              "        document.querySelector('#df-b2653f81-76c1-4553-ac8c-6a8d17161401 button');\n",
              "      quickchartButtonEl.style.display =\n",
              "        google.colab.kernel.accessAllowed ? 'block' : 'none';\n",
              "    })();\n",
              "  </script>\n",
              "</div>\n",
              "\n",
              "    </div>\n",
              "  </div>\n"
            ],
            "application/vnd.google.colaboratory.intrinsic+json": {
              "type": "dataframe",
              "variable_name": "df",
              "summary": "{\n  \"name\": \"df\",\n  \"rows\": 737,\n  \"fields\": [\n    {\n      \"column\": \"date\",\n      \"properties\": {\n        \"dtype\": \"object\",\n        \"num_unique_values\": 737,\n        \"samples\": [\n          \"2024-12-02\",\n          \"2022-05-04\",\n          \"2024-06-12\"\n        ],\n        \"semantic_type\": \"\",\n        \"description\": \"\"\n      }\n    },\n    {\n      \"column\": \"open\",\n      \"properties\": {\n        \"dtype\": \"number\",\n        \"std\": 80.75386255099492,\n        \"min\": 1363.0,\n        \"max\": 1867.49,\n        \"num_unique_values\": 361,\n        \"samples\": [\n          1576.43,\n          1640.0,\n          1680.0\n        ],\n        \"semantic_type\": \"\",\n        \"description\": \"\"\n      }\n    },\n    {\n      \"column\": \"high\",\n      \"properties\": {\n        \"dtype\": \"number\",\n        \"std\": 80.0169393328244,\n        \"min\": 1372.59,\n        \"max\": 1867.49,\n        \"num_unique_values\": 401,\n        \"samples\": [\n          1499.99,\n          1532.0,\n          1613.98\n        ],\n        \"semantic_type\": \"\",\n        \"description\": \"\"\n      }\n    },\n    {\n      \"column\": \"low\",\n      \"properties\": {\n        \"dtype\": \"number\",\n        \"std\": 79.51608708164368,\n        \"min\": 1361.0,\n        \"max\": 1855.27,\n        \"num_unique_values\": 290,\n        \"samples\": [\n          1616.94,\n          1460.14,\n          1590.0\n        ],\n        \"semantic_type\": \"\",\n        \"description\": \"\"\n      }\n    },\n    {\n      \"column\": \"close\",\n      \"properties\": {\n        \"dtype\": \"number\",\n        \"std\": 79.83788016682011,\n        \"min\": 1363.99,\n        \"max\": 1867.49,\n        \"num_unique_values\": 450,\n        \"samples\": [\n          1452.5,\n          1486.98,\n          1574.7\n        ],\n        \"semantic_type\": \"\",\n        \"description\": \"\"\n      }\n    },\n    {\n      \"column\": \"volume\",\n      \"properties\": {\n        \"dtype\": \"number\",\n        \"std\": 74209963.70215702,\n        \"min\": 207090.0,\n        \"max\": 1427739884.0,\n        \"num_unique_values\": 737,\n        \"samples\": [\n          19995219.3,\n          1785402.0,\n          82229888.4\n        ],\n        \"semantic_type\": \"\",\n        \"description\": \"\"\n      }\n    }\n  ]\n}"
            }
          },
          "metadata": {},
          "execution_count": 38
        }
      ]
    },
    {
      "cell_type": "code",
      "source": [
        "df.info()"
      ],
      "metadata": {
        "colab": {
          "base_uri": "https://localhost:8080/"
        },
        "id": "lqN3zgxI9LyG",
        "outputId": "b2357f9e-0c1d-41fe-ff86-86d77d8806fe"
      },
      "execution_count": 39,
      "outputs": [
        {
          "output_type": "stream",
          "name": "stdout",
          "text": [
            "<class 'pandas.core.frame.DataFrame'>\n",
            "RangeIndex: 737 entries, 0 to 736\n",
            "Data columns (total 6 columns):\n",
            " #   Column  Non-Null Count  Dtype  \n",
            "---  ------  --------------  -----  \n",
            " 0   date    737 non-null    object \n",
            " 1   open    737 non-null    float64\n",
            " 2   high    737 non-null    float64\n",
            " 3   low     737 non-null    float64\n",
            " 4   close   737 non-null    float64\n",
            " 5   volume  737 non-null    float64\n",
            "dtypes: float64(5), object(1)\n",
            "memory usage: 34.7+ KB\n"
          ]
        }
      ]
    },
    {
      "cell_type": "code",
      "source": [
        "df[\"date\"] = pd.to_datetime(df[\"date\"])\n",
        "df.info()"
      ],
      "metadata": {
        "colab": {
          "base_uri": "https://localhost:8080/"
        },
        "id": "GcdhEN009OVR",
        "outputId": "b327a392-7d56-4e70-d838-61290b369a63"
      },
      "execution_count": 40,
      "outputs": [
        {
          "output_type": "stream",
          "name": "stdout",
          "text": [
            "<class 'pandas.core.frame.DataFrame'>\n",
            "RangeIndex: 737 entries, 0 to 736\n",
            "Data columns (total 6 columns):\n",
            " #   Column  Non-Null Count  Dtype         \n",
            "---  ------  --------------  -----         \n",
            " 0   date    737 non-null    datetime64[ns]\n",
            " 1   open    737 non-null    float64       \n",
            " 2   high    737 non-null    float64       \n",
            " 3   low     737 non-null    float64       \n",
            " 4   close   737 non-null    float64       \n",
            " 5   volume  737 non-null    float64       \n",
            "dtypes: datetime64[ns](1), float64(5)\n",
            "memory usage: 34.7 KB\n"
          ]
        }
      ]
    },
    {
      "cell_type": "code",
      "source": [
        "df.set_index(\"date\", inplace=True)\n",
        "df.head()"
      ],
      "metadata": {
        "colab": {
          "base_uri": "https://localhost:8080/",
          "height": 238
        },
        "id": "db1gQHyw85z_",
        "outputId": "caab7cbe-2170-47c9-839f-b1419499ee75"
      },
      "execution_count": 41,
      "outputs": [
        {
          "output_type": "execute_result",
          "data": {
            "text/plain": [
              "               open    high      low    close      volume\n",
              "date                                                     \n",
              "2022-03-14  1863.97  1864.0  1849.00  1850.01  3576069.33\n",
              "2022-03-15  1851.00  1860.0  1851.00  1860.00   983940.00\n",
              "2022-03-16  1860.00  1860.0  1849.03  1851.00  2173074.00\n",
              "2022-03-17  1851.00  1860.0  1849.01  1851.00  1764003.00\n",
              "2022-03-18  1851.00  1851.0  1850.00  1851.00  4172154.00"
            ],
            "text/html": [
              "\n",
              "  <div id=\"df-ffb2c47e-f503-4132-92f6-5d06ad51ae4f\" class=\"colab-df-container\">\n",
              "    <div>\n",
              "<style scoped>\n",
              "    .dataframe tbody tr th:only-of-type {\n",
              "        vertical-align: middle;\n",
              "    }\n",
              "\n",
              "    .dataframe tbody tr th {\n",
              "        vertical-align: top;\n",
              "    }\n",
              "\n",
              "    .dataframe thead th {\n",
              "        text-align: right;\n",
              "    }\n",
              "</style>\n",
              "<table border=\"1\" class=\"dataframe\">\n",
              "  <thead>\n",
              "    <tr style=\"text-align: right;\">\n",
              "      <th></th>\n",
              "      <th>open</th>\n",
              "      <th>high</th>\n",
              "      <th>low</th>\n",
              "      <th>close</th>\n",
              "      <th>volume</th>\n",
              "    </tr>\n",
              "    <tr>\n",
              "      <th>date</th>\n",
              "      <th></th>\n",
              "      <th></th>\n",
              "      <th></th>\n",
              "      <th></th>\n",
              "      <th></th>\n",
              "    </tr>\n",
              "  </thead>\n",
              "  <tbody>\n",
              "    <tr>\n",
              "      <th>2022-03-14</th>\n",
              "      <td>1863.97</td>\n",
              "      <td>1864.0</td>\n",
              "      <td>1849.00</td>\n",
              "      <td>1850.01</td>\n",
              "      <td>3576069.33</td>\n",
              "    </tr>\n",
              "    <tr>\n",
              "      <th>2022-03-15</th>\n",
              "      <td>1851.00</td>\n",
              "      <td>1860.0</td>\n",
              "      <td>1851.00</td>\n",
              "      <td>1860.00</td>\n",
              "      <td>983940.00</td>\n",
              "    </tr>\n",
              "    <tr>\n",
              "      <th>2022-03-16</th>\n",
              "      <td>1860.00</td>\n",
              "      <td>1860.0</td>\n",
              "      <td>1849.03</td>\n",
              "      <td>1851.00</td>\n",
              "      <td>2173074.00</td>\n",
              "    </tr>\n",
              "    <tr>\n",
              "      <th>2022-03-17</th>\n",
              "      <td>1851.00</td>\n",
              "      <td>1860.0</td>\n",
              "      <td>1849.01</td>\n",
              "      <td>1851.00</td>\n",
              "      <td>1764003.00</td>\n",
              "    </tr>\n",
              "    <tr>\n",
              "      <th>2022-03-18</th>\n",
              "      <td>1851.00</td>\n",
              "      <td>1851.0</td>\n",
              "      <td>1850.00</td>\n",
              "      <td>1851.00</td>\n",
              "      <td>4172154.00</td>\n",
              "    </tr>\n",
              "  </tbody>\n",
              "</table>\n",
              "</div>\n",
              "    <div class=\"colab-df-buttons\">\n",
              "\n",
              "  <div class=\"colab-df-container\">\n",
              "    <button class=\"colab-df-convert\" onclick=\"convertToInteractive('df-ffb2c47e-f503-4132-92f6-5d06ad51ae4f')\"\n",
              "            title=\"Convert this dataframe to an interactive table.\"\n",
              "            style=\"display:none;\">\n",
              "\n",
              "  <svg xmlns=\"http://www.w3.org/2000/svg\" height=\"24px\" viewBox=\"0 -960 960 960\">\n",
              "    <path d=\"M120-120v-720h720v720H120Zm60-500h600v-160H180v160Zm220 220h160v-160H400v160Zm0 220h160v-160H400v160ZM180-400h160v-160H180v160Zm440 0h160v-160H620v160ZM180-180h160v-160H180v160Zm440 0h160v-160H620v160Z\"/>\n",
              "  </svg>\n",
              "    </button>\n",
              "\n",
              "  <style>\n",
              "    .colab-df-container {\n",
              "      display:flex;\n",
              "      gap: 12px;\n",
              "    }\n",
              "\n",
              "    .colab-df-convert {\n",
              "      background-color: #E8F0FE;\n",
              "      border: none;\n",
              "      border-radius: 50%;\n",
              "      cursor: pointer;\n",
              "      display: none;\n",
              "      fill: #1967D2;\n",
              "      height: 32px;\n",
              "      padding: 0 0 0 0;\n",
              "      width: 32px;\n",
              "    }\n",
              "\n",
              "    .colab-df-convert:hover {\n",
              "      background-color: #E2EBFA;\n",
              "      box-shadow: 0px 1px 2px rgba(60, 64, 67, 0.3), 0px 1px 3px 1px rgba(60, 64, 67, 0.15);\n",
              "      fill: #174EA6;\n",
              "    }\n",
              "\n",
              "    .colab-df-buttons div {\n",
              "      margin-bottom: 4px;\n",
              "    }\n",
              "\n",
              "    [theme=dark] .colab-df-convert {\n",
              "      background-color: #3B4455;\n",
              "      fill: #D2E3FC;\n",
              "    }\n",
              "\n",
              "    [theme=dark] .colab-df-convert:hover {\n",
              "      background-color: #434B5C;\n",
              "      box-shadow: 0px 1px 3px 1px rgba(0, 0, 0, 0.15);\n",
              "      filter: drop-shadow(0px 1px 2px rgba(0, 0, 0, 0.3));\n",
              "      fill: #FFFFFF;\n",
              "    }\n",
              "  </style>\n",
              "\n",
              "    <script>\n",
              "      const buttonEl =\n",
              "        document.querySelector('#df-ffb2c47e-f503-4132-92f6-5d06ad51ae4f button.colab-df-convert');\n",
              "      buttonEl.style.display =\n",
              "        google.colab.kernel.accessAllowed ? 'block' : 'none';\n",
              "\n",
              "      async function convertToInteractive(key) {\n",
              "        const element = document.querySelector('#df-ffb2c47e-f503-4132-92f6-5d06ad51ae4f');\n",
              "        const dataTable =\n",
              "          await google.colab.kernel.invokeFunction('convertToInteractive',\n",
              "                                                    [key], {});\n",
              "        if (!dataTable) return;\n",
              "\n",
              "        const docLinkHtml = 'Like what you see? Visit the ' +\n",
              "          '<a target=\"_blank\" href=https://colab.research.google.com/notebooks/data_table.ipynb>data table notebook</a>'\n",
              "          + ' to learn more about interactive tables.';\n",
              "        element.innerHTML = '';\n",
              "        dataTable['output_type'] = 'display_data';\n",
              "        await google.colab.output.renderOutput(dataTable, element);\n",
              "        const docLink = document.createElement('div');\n",
              "        docLink.innerHTML = docLinkHtml;\n",
              "        element.appendChild(docLink);\n",
              "      }\n",
              "    </script>\n",
              "  </div>\n",
              "\n",
              "\n",
              "<div id=\"df-f1b6f750-8e30-49c9-b6e4-ffd9ba39e118\">\n",
              "  <button class=\"colab-df-quickchart\" onclick=\"quickchart('df-f1b6f750-8e30-49c9-b6e4-ffd9ba39e118')\"\n",
              "            title=\"Suggest charts\"\n",
              "            style=\"display:none;\">\n",
              "\n",
              "<svg xmlns=\"http://www.w3.org/2000/svg\" height=\"24px\"viewBox=\"0 0 24 24\"\n",
              "     width=\"24px\">\n",
              "    <g>\n",
              "        <path d=\"M19 3H5c-1.1 0-2 .9-2 2v14c0 1.1.9 2 2 2h14c1.1 0 2-.9 2-2V5c0-1.1-.9-2-2-2zM9 17H7v-7h2v7zm4 0h-2V7h2v10zm4 0h-2v-4h2v4z\"/>\n",
              "    </g>\n",
              "</svg>\n",
              "  </button>\n",
              "\n",
              "<style>\n",
              "  .colab-df-quickchart {\n",
              "      --bg-color: #E8F0FE;\n",
              "      --fill-color: #1967D2;\n",
              "      --hover-bg-color: #E2EBFA;\n",
              "      --hover-fill-color: #174EA6;\n",
              "      --disabled-fill-color: #AAA;\n",
              "      --disabled-bg-color: #DDD;\n",
              "  }\n",
              "\n",
              "  [theme=dark] .colab-df-quickchart {\n",
              "      --bg-color: #3B4455;\n",
              "      --fill-color: #D2E3FC;\n",
              "      --hover-bg-color: #434B5C;\n",
              "      --hover-fill-color: #FFFFFF;\n",
              "      --disabled-bg-color: #3B4455;\n",
              "      --disabled-fill-color: #666;\n",
              "  }\n",
              "\n",
              "  .colab-df-quickchart {\n",
              "    background-color: var(--bg-color);\n",
              "    border: none;\n",
              "    border-radius: 50%;\n",
              "    cursor: pointer;\n",
              "    display: none;\n",
              "    fill: var(--fill-color);\n",
              "    height: 32px;\n",
              "    padding: 0;\n",
              "    width: 32px;\n",
              "  }\n",
              "\n",
              "  .colab-df-quickchart:hover {\n",
              "    background-color: var(--hover-bg-color);\n",
              "    box-shadow: 0 1px 2px rgba(60, 64, 67, 0.3), 0 1px 3px 1px rgba(60, 64, 67, 0.15);\n",
              "    fill: var(--button-hover-fill-color);\n",
              "  }\n",
              "\n",
              "  .colab-df-quickchart-complete:disabled,\n",
              "  .colab-df-quickchart-complete:disabled:hover {\n",
              "    background-color: var(--disabled-bg-color);\n",
              "    fill: var(--disabled-fill-color);\n",
              "    box-shadow: none;\n",
              "  }\n",
              "\n",
              "  .colab-df-spinner {\n",
              "    border: 2px solid var(--fill-color);\n",
              "    border-color: transparent;\n",
              "    border-bottom-color: var(--fill-color);\n",
              "    animation:\n",
              "      spin 1s steps(1) infinite;\n",
              "  }\n",
              "\n",
              "  @keyframes spin {\n",
              "    0% {\n",
              "      border-color: transparent;\n",
              "      border-bottom-color: var(--fill-color);\n",
              "      border-left-color: var(--fill-color);\n",
              "    }\n",
              "    20% {\n",
              "      border-color: transparent;\n",
              "      border-left-color: var(--fill-color);\n",
              "      border-top-color: var(--fill-color);\n",
              "    }\n",
              "    30% {\n",
              "      border-color: transparent;\n",
              "      border-left-color: var(--fill-color);\n",
              "      border-top-color: var(--fill-color);\n",
              "      border-right-color: var(--fill-color);\n",
              "    }\n",
              "    40% {\n",
              "      border-color: transparent;\n",
              "      border-right-color: var(--fill-color);\n",
              "      border-top-color: var(--fill-color);\n",
              "    }\n",
              "    60% {\n",
              "      border-color: transparent;\n",
              "      border-right-color: var(--fill-color);\n",
              "    }\n",
              "    80% {\n",
              "      border-color: transparent;\n",
              "      border-right-color: var(--fill-color);\n",
              "      border-bottom-color: var(--fill-color);\n",
              "    }\n",
              "    90% {\n",
              "      border-color: transparent;\n",
              "      border-bottom-color: var(--fill-color);\n",
              "    }\n",
              "  }\n",
              "</style>\n",
              "\n",
              "  <script>\n",
              "    async function quickchart(key) {\n",
              "      const quickchartButtonEl =\n",
              "        document.querySelector('#' + key + ' button');\n",
              "      quickchartButtonEl.disabled = true;  // To prevent multiple clicks.\n",
              "      quickchartButtonEl.classList.add('colab-df-spinner');\n",
              "      try {\n",
              "        const charts = await google.colab.kernel.invokeFunction(\n",
              "            'suggestCharts', [key], {});\n",
              "      } catch (error) {\n",
              "        console.error('Error during call to suggestCharts:', error);\n",
              "      }\n",
              "      quickchartButtonEl.classList.remove('colab-df-spinner');\n",
              "      quickchartButtonEl.classList.add('colab-df-quickchart-complete');\n",
              "    }\n",
              "    (() => {\n",
              "      let quickchartButtonEl =\n",
              "        document.querySelector('#df-f1b6f750-8e30-49c9-b6e4-ffd9ba39e118 button');\n",
              "      quickchartButtonEl.style.display =\n",
              "        google.colab.kernel.accessAllowed ? 'block' : 'none';\n",
              "    })();\n",
              "  </script>\n",
              "</div>\n",
              "\n",
              "    </div>\n",
              "  </div>\n"
            ],
            "application/vnd.google.colaboratory.intrinsic+json": {
              "type": "dataframe",
              "variable_name": "df",
              "summary": "{\n  \"name\": \"df\",\n  \"rows\": 737,\n  \"fields\": [\n    {\n      \"column\": \"date\",\n      \"properties\": {\n        \"dtype\": \"date\",\n        \"min\": \"2022-03-14 00:00:00\",\n        \"max\": \"2025-03-13 00:00:00\",\n        \"num_unique_values\": 737,\n        \"samples\": [\n          \"2024-12-02 00:00:00\",\n          \"2022-05-04 00:00:00\",\n          \"2024-06-12 00:00:00\"\n        ],\n        \"semantic_type\": \"\",\n        \"description\": \"\"\n      }\n    },\n    {\n      \"column\": \"open\",\n      \"properties\": {\n        \"dtype\": \"number\",\n        \"std\": 80.75386255099492,\n        \"min\": 1363.0,\n        \"max\": 1867.49,\n        \"num_unique_values\": 361,\n        \"samples\": [\n          1576.43,\n          1640.0,\n          1680.0\n        ],\n        \"semantic_type\": \"\",\n        \"description\": \"\"\n      }\n    },\n    {\n      \"column\": \"high\",\n      \"properties\": {\n        \"dtype\": \"number\",\n        \"std\": 80.0169393328244,\n        \"min\": 1372.59,\n        \"max\": 1867.49,\n        \"num_unique_values\": 401,\n        \"samples\": [\n          1499.99,\n          1532.0,\n          1613.98\n        ],\n        \"semantic_type\": \"\",\n        \"description\": \"\"\n      }\n    },\n    {\n      \"column\": \"low\",\n      \"properties\": {\n        \"dtype\": \"number\",\n        \"std\": 79.51608708164368,\n        \"min\": 1361.0,\n        \"max\": 1855.27,\n        \"num_unique_values\": 290,\n        \"samples\": [\n          1616.94,\n          1460.14,\n          1590.0\n        ],\n        \"semantic_type\": \"\",\n        \"description\": \"\"\n      }\n    },\n    {\n      \"column\": \"close\",\n      \"properties\": {\n        \"dtype\": \"number\",\n        \"std\": 79.83788016682011,\n        \"min\": 1363.99,\n        \"max\": 1867.49,\n        \"num_unique_values\": 450,\n        \"samples\": [\n          1452.5,\n          1486.98,\n          1574.7\n        ],\n        \"semantic_type\": \"\",\n        \"description\": \"\"\n      }\n    },\n    {\n      \"column\": \"volume\",\n      \"properties\": {\n        \"dtype\": \"number\",\n        \"std\": 74209963.70215702,\n        \"min\": 207090.0,\n        \"max\": 1427739884.0,\n        \"num_unique_values\": 737,\n        \"samples\": [\n          19995219.3,\n          1785402.0,\n          82229888.4\n        ],\n        \"semantic_type\": \"\",\n        \"description\": \"\"\n      }\n    }\n  ]\n}"
            }
          },
          "metadata": {},
          "execution_count": 41
        }
      ]
    },
    {
      "cell_type": "markdown",
      "source": [
        "Function for simulation of one configuration"
      ],
      "metadata": {
        "id": "ThOf4in6_TKB"
      }
    },
    {
      "cell_type": "code",
      "source": [
        "\n",
        "\n",
        "def simulate_strategy(data, window, num_std, delay_days=0):\n",
        "    df = data.copy()\n",
        "    df['ma'] = df['close'].rolling(window).mean()\n",
        "    df['std'] = df['close'].rolling(window).std()\n",
        "    df['upper'] = df['ma'] + num_std * df['std']\n",
        "    df['lower'] = df['ma'] - num_std * df['std']\n",
        "    df.dropna(inplace=True)\n",
        "\n",
        "    cash = 10000\n",
        "    shares = 0\n",
        "    portfolio_value = []\n",
        "    positions = []\n",
        "\n",
        "    signal_wait_counter = 0\n",
        "    pending_action = None  # 'buy' or 'sell'\n",
        "\n",
        "    for date, row in df.iterrows():\n",
        "        price = row['close']\n",
        "        upper = row['upper']\n",
        "        lower = row['lower']\n",
        "\n",
        "        # Check for new signal only if not waiting\n",
        "        if pending_action is None:\n",
        "            if price < lower and shares == 0:\n",
        "                pending_action = 'buy'\n",
        "                signal_wait_counter = delay_days\n",
        "            elif price > upper and shares > 0:\n",
        "                pending_action = 'sell'\n",
        "                signal_wait_counter = delay_days\n",
        "\n",
        "        # If waiting on a signal, decrement the wait counter\n",
        "        elif signal_wait_counter > 0:\n",
        "            signal_wait_counter -= 1\n",
        "\n",
        "        # Execute signal after waiting period\n",
        "        elif signal_wait_counter == 0:\n",
        "            if pending_action == 'buy':\n",
        "                shares = cash // price\n",
        "                cash -= shares * price\n",
        "                positions.append(('buy', date, price))\n",
        "            elif pending_action == 'sell':\n",
        "                cash += shares * price\n",
        "                shares = 0\n",
        "                positions.append(('sell', date, price))\n",
        "\n",
        "            pending_action = None  # Reset after execution\n",
        "\n",
        "        total_value = cash + shares * price\n",
        "        portfolio_value.append((date, total_value))\n",
        "\n",
        "    final_value = portfolio_value[-1][1]\n",
        "    return final_value, positions"
      ],
      "metadata": {
        "id": "xQ_RrkSY_ChW"
      },
      "execution_count": 55,
      "outputs": []
    },
    {
      "cell_type": "markdown",
      "source": [
        "Grid search for best configuration of the parameters for strategy"
      ],
      "metadata": {
        "id": "MlzSM_MVwRDC"
      }
    },
    {
      "cell_type": "code",
      "source": [
        "window_options = list(range(10, 50, 5))\n",
        "std_options = [1.0, 1.5, 2.0, 2.5, 3.0]\n",
        "delay_options = list(range(1, 5))\n",
        "\n",
        "results = []\n",
        "\n",
        "for window in window_options:\n",
        "    for num_std in std_options:\n",
        "        for delay in delay_options:\n",
        "            final_value, trades = simulate_strategy(df, window, num_std, delay_days=delay)\n",
        "            results.append({\n",
        "                'window': window,\n",
        "                'std': num_std,\n",
        "                'delay': delay,\n",
        "                'final_value': final_value,\n",
        "                'num_trades': len(trades)\n",
        "            })"
      ],
      "metadata": {
        "id": "7uM2hM_x_YDg"
      },
      "execution_count": 59,
      "outputs": []
    },
    {
      "cell_type": "code",
      "source": [
        "results_df = pd.DataFrame(results)\n",
        "results_df = results_df.sort_values(by='final_value', ascending=False)\n",
        "\n",
        "print(results_df)"
      ],
      "metadata": {
        "colab": {
          "base_uri": "https://localhost:8080/"
        },
        "id": "EvfvVgZm_fyr",
        "outputId": "62ed23d1-4b7f-461c-803b-ed5fdf7ce34c"
      },
      "execution_count": 60,
      "outputs": [
        {
          "output_type": "stream",
          "name": "stdout",
          "text": [
            "     window  std  delay  final_value  num_trades\n",
            "140      45  1.0      1     10990.42          23\n",
            "94       30  2.5      3     10781.60          11\n",
            "120      40  1.0      1     10725.38          23\n",
            "34       15  2.5      3     10673.04          11\n",
            "82       30  1.0      3     10663.97          25\n",
            "..      ...  ...    ...          ...         ...\n",
            "6        10  1.5      3      9209.40          35\n",
            "1        10  1.0      2      9149.53          45\n",
            "3        10  1.0      4      9057.77          43\n",
            "7        10  1.5      4      9039.11          33\n",
            "5        10  1.5      2      8883.11          35\n",
            "\n",
            "[160 rows x 5 columns]\n"
          ]
        }
      ]
    },
    {
      "cell_type": "markdown",
      "source": [
        "Visualization of the strategy"
      ],
      "metadata": {
        "id": "f2xOXKm7Anzr"
      }
    },
    {
      "cell_type": "code",
      "source": [
        "# best parameters\n",
        "best_window = 45\n",
        "best_std = 1.0\n",
        "best_delay = 1\n",
        "\n",
        "final_value, trades = simulate_strategy(df, best_window, best_std, delay_days=best_delay)\n",
        "\n",
        "# Make bands and ma line for the plotting\n",
        "df['ma'] = df['close'].rolling(best_window).mean()\n",
        "df['std'] = df['close'].rolling(best_window).std()\n",
        "df['upper'] = df['ma'] + best_std * df['std']\n",
        "df['lower'] = df['ma'] - best_std * df['std']\n",
        "df.dropna(inplace=True)\n",
        "\n",
        "buy_dates = [d for action, d, price in trades if action == 'buy']\n",
        "buy_prices = [price for action, d, price in trades if action == 'buy']\n",
        "\n",
        "sell_dates = [d for action, d, price in trades if action == 'sell']\n",
        "sell_prices = [price for action, d, price in trades if action == 'sell']"
      ],
      "metadata": {
        "id": "fGnc6A8mAqKF"
      },
      "execution_count": 61,
      "outputs": []
    },
    {
      "cell_type": "markdown",
      "source": [
        "Plotting the trade chart"
      ],
      "metadata": {
        "id": "bZ5BCDn9A_w7"
      }
    },
    {
      "cell_type": "code",
      "source": [
        "import matplotlib.pyplot as plt\n",
        "\n",
        "plt.figure(figsize=(14, 6))\n",
        "\n",
        "# Price and bands\n",
        "plt.plot(df.index, df['close'], label='Close Price', color='blue', alpha=0.6)\n",
        "plt.plot(df.index, df['upper'], label='Upper Band', linestyle='--', color='red')\n",
        "plt.plot(df.index, df['lower'], label='Lower Band', linestyle='--', color='green')\n",
        "\n",
        "# Buy and sell markers\n",
        "plt.scatter(buy_dates, buy_prices, marker='^', color='green', s=100, label='Buy')\n",
        "plt.scatter(sell_dates, sell_prices, marker='v', color='red', s=100, label='Sell')\n",
        "\n",
        "plt.title(f\"Bollinger Band Strategy\\nWindow={best_window}, STD={best_std}, Delay={best_delay}\\nFinal Portfolio Value: ${final_value:.2f}\")\n",
        "plt.xlabel(\"Date\")\n",
        "plt.ylabel(\"Price\")\n",
        "plt.legend()\n",
        "plt.grid(True)\n",
        "plt.tight_layout()\n",
        "plt.show()"
      ],
      "metadata": {
        "colab": {
          "base_uri": "https://localhost:8080/",
          "height": 479
        },
        "id": "dVOcsUybBBCH",
        "outputId": "9023b459-9e41-4e7c-807e-3bb85e2535a4"
      },
      "execution_count": 62,
      "outputs": [
        {
          "output_type": "display_data",
          "data": {
            "text/plain": [
              "<Figure size 1400x600 with 1 Axes>"
            ],
            "image/png": "[encoded data removed]"
          },
          "metadata": {}
        }
      ]
    },
    {
      "cell_type": "markdown",
      "source": [
        "Hold strategy for the period"
      ],
      "metadata": {
        "id": "SDalnemJBTvF"
      }
    },
    {
      "cell_type": "code",
      "source": [
        "initial_price = df[\"close\"].iloc[0]\n",
        "final_price = df[\"close\"].iloc[-1]\n",
        "\n",
        "ratio = final_price/initial_price\n",
        "print(f\"Return of Mean reversion strategy: {((final_value/10000) * 100) - 100}%\")\n",
        "print(f\"Return of Buy and hold strategy: {(ratio * 100) - 100}%\")"
      ],
      "metadata": {
        "colab": {
          "base_uri": "https://localhost:8080/"
        },
        "id": "Xpi1oZtPBV-t",
        "outputId": "7b1e10f6-1398-4c45-c3d8-1f0702cacc2b"
      },
      "execution_count": 64,
      "outputs": [
        {
          "output_type": "stream",
          "name": "stdout",
          "text": [
            "Return of Mean reversion strategy: 9.90419999999996%\n",
            "Return of Buy and hold strategy: -11.201801801801807%\n"
          ]
        }
      ]
    }
  ]
}